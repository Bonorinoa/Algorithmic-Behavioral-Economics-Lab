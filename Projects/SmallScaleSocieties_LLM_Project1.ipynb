{
  "nbformat": 4,
  "nbformat_minor": 0,
  "metadata": {
    "colab": {
      "provenance": [],
      "authorship_tag": "ABX9TyNcVahWCp/HwX30Mn7H1peR",
      "include_colab_link": true
    },
    "kernelspec": {
      "name": "python3",
      "display_name": "Python 3"
    },
    "language_info": {
      "name": "python"
    }
  },
  "cells": [
    {
      "cell_type": "markdown",
      "metadata": {
        "id": "view-in-github",
        "colab_type": "text"
      },
      "source": [
        "<a href=\"https://colab.research.google.com/github/Bonorinoa/Algorithmic-Behavioral-Economics-Lab/blob/main/Projects/SmallScaleSocieties_LLM_Project1.ipynb\" target=\"_parent\"><img src=\"https://colab.research.google.com/assets/colab-badge.svg\" alt=\"Open In Colab\"/></a>"
      ]
    },
    {
      "cell_type": "markdown",
      "source": [
        "# CGU Algorithmic Behavioral Economics - Project 1\n",
        "\n",
        "description of the project\n",
        "\n",
        "***make sure to write clear code and always include relevant comments explaining your work***"
      ],
      "metadata": {
        "id": "o8Vs0Ivm4aSd"
      }
    },
    {
      "cell_type": "code",
      "execution_count": null,
      "metadata": {
        "id": "6eOpITyd4ZCF"
      },
      "outputs": [],
      "source": [
        "# install required libraries\n",
        "!pip install openai cohere langchain"
      ]
    },
    {
      "cell_type": "code",
      "source": [],
      "metadata": {
        "id": "Zv0mXQzl420C"
      },
      "execution_count": null,
      "outputs": []
    }
  ]
}